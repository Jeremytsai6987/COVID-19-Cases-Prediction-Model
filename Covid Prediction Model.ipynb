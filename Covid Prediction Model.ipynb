{
  "cells": [
    {
      "cell_type": "markdown",
      "metadata": {
        "id": "mz0_QVkxCrX3"
      },
      "source": [
        "# **COVID-19 Cases Prediction (Regression)**\n",
        "\n",
        "__Name:__ Ya-Wei Tsai\n",
        "\n",
        "\n",
        "__Summary__:\n",
        "\n",
        "\n",
        "* Feature Selection:\n",
        "\n",
        "  filter features by their correlation to the target value & manually selected by mearning of the column.\n",
        "\n",
        "* Train/Valid Ratio:\n",
        "  \n",
        "  ratio of the training & validation set is changed to 4:1, instead of 9:1.\n",
        "\n",
        "* Normalization:\n",
        "\n",
        "  the validation & testing set were normalized based on the mean and standard deviation of training set.\n",
        "\n",
        "* Batch Size: changed to 64.\n",
        "\n",
        "* L2 Reguralization: $\\lambda = 5*10^{-5}$\n",
        "\n",
        "* Optimizer:\n",
        "\n",
        "  Adam with learning rate of 0.01 and weight decay of 0.005 is adopted.\n",
        "\n",
        "* Learning Rate Scheduling: $lr_{epoch}=0.996^{epoch}*lr_{0}$\n",
        "\n",
        "* DNN Architecture: 1 hidden layer with size of 16 units was used.\n",
        "\n",
        "* Stacking Method:\n",
        "\n",
        "  XGBoost & SVM were adopted to produce the final predictions. The hyperparameters for these regressors were tuning based on the same validation set in training of DNN. In the end, the prediction of DNN, XGBoost and SVM were weighted with ratio of 0.5, 0.2, 0.3 respectively.\n"
      ]
    },
    {
      "cell_type": "markdown",
      "metadata": {
        "id": "Jx3x1nDkG-Uy"
      },
      "source": [
        "# **Download Data**\n",
        "\n",
        "\n",
        "If the Google drive links are dead, you can download data from [kaggle](https://www.kaggle.com/c/ml2021spring-hw1/data), and upload data manually to the workspace."
      ]
    },
    {
      "cell_type": "code",
      "execution_count": null,
      "metadata": {
        "colab": {
          "base_uri": "https://localhost:8080/"
        },
        "id": "tMj55YDKG6ch",
        "outputId": "8daf1ad8-e664-426c-b80e-541f8188c4d9"
      },
      "outputs": [
        {
          "name": "stdout",
          "output_type": "stream",
          "text": [
            "Downloading...\n",
            "From: https://drive.google.com/uc?id=19CCyCgJrUxtvgZF53vnctJiOJ23T5mqF\n",
            "To: /content/covid.train.csv\n",
            "100% 2.00M/2.00M [00:00<00:00, 31.7MB/s]\n",
            "Downloading...\n",
            "From: https://drive.google.com/uc?id=1CE240jLm2npU-tdz81-oVKEF3T2yfT1O\n",
            "To: /content/covid.test.csv\n",
            "100% 651k/651k [00:00<00:00, 10.2MB/s]\n"
          ]
        }
      ],
      "source": [
        "tr_path = 'covid.train.csv'  # path to training data\n",
        "tt_path = 'covid.test.csv'   # path to testing data\n",
        "\n",
        "!gdown --id '19CCyCgJrUxtvgZF53vnctJiOJ23T5mqF' --output covid.train.csv\n",
        "!gdown --id '1CE240jLm2npU-tdz81-oVKEF3T2yfT1O' --output covid.test.csv"
      ]
    },
    {
      "cell_type": "markdown",
      "metadata": {
        "id": "wS_4-77xHk44"
      },
      "source": [
        "# **Import Some Packages**"
      ]
    },
    {
      "cell_type": "code",
      "execution_count": null,
      "metadata": {
        "id": "k-onQd4JNA5H"
      },
      "outputs": [],
      "source": [
        "# PyTorch\n",
        "import torch\n",
        "import torch.nn as nn\n",
        "from torch.utils.data import Dataset, DataLoader\n",
        "\n",
        "# For data preprocess\n",
        "import os\n",
        "import csv\n",
        "import pickle\n",
        "import numpy as np\n",
        "import pandas as pd\n",
        "\n",
        "# For plotting\n",
        "import matplotlib.pyplot as plt\n",
        "from matplotlib.pyplot import figure\n",
        "\n",
        "myseed = 42069  # set a random seed for reproducibility\n",
        "myseed = 666\n",
        "torch.backends.cudnn.deterministic = True\n",
        "torch.backends.cudnn.benchmark = False\n",
        "np.random.seed(myseed)\n",
        "torch.manual_seed(myseed)\n",
        "if torch.cuda.is_available():\n",
        "    torch.cuda.manual_seed_all(myseed)"
      ]
    },
    {
      "cell_type": "markdown",
      "metadata": {
        "id": "BtE3b6JEH7rw"
      },
      "source": [
        "# **Utilities**"
      ]
    },
    {
      "cell_type": "code",
      "execution_count": null,
      "metadata": {
        "id": "FWMT3uf1NGQp"
      },
      "outputs": [],
      "source": [
        "def get_device():\n",
        "    ''' Get device (if GPU is available, use GPU) '''\n",
        "    return 'cuda' if torch.cuda.is_available() else 'cpu'\n",
        "\n",
        "def plot_learning_curve(loss_record, title=''):\n",
        "    ''' Plot learning curve of your DNN (train & dev loss) '''\n",
        "    total_steps = len(loss_record['train'])\n",
        "    x_1 = range(total_steps)\n",
        "    x_2 = x_1[::len(loss_record['train']) // len(loss_record['dev'])]\n",
        "    figure(figsize=(6, 4))\n",
        "    plt.plot(x_1, loss_record['train'], c='tab:red', label='train')\n",
        "    plt.plot(x_2, loss_record['dev'], c='tab:cyan', label='dev')\n",
        "    plt.ylim(0.0, 5.)\n",
        "    plt.xlabel('Training steps')\n",
        "    plt.ylabel('MSE loss')\n",
        "    plt.title('Learning curve of {}'.format(title))\n",
        "    plt.legend()\n",
        "    plt.show()\n",
        "\n",
        "def plot_pred(dv_set, model, device, lim=35., preds=None, targets=None):\n",
        "    ''' Plot prediction of your DNN '''\n",
        "    if preds is None or targets is None:\n",
        "        model.eval()\n",
        "        preds, targets = [], []\n",
        "        for x, y in dv_set:\n",
        "            x, y = x.to(device), y.to(device)\n",
        "            with torch.no_grad():\n",
        "                pred = model(x)\n",
        "                preds.append(pred.detach().cpu())\n",
        "                targets.append(y.detach().cpu())\n",
        "        preds = torch.cat(preds, dim=0).numpy()\n",
        "        targets = torch.cat(targets, dim=0).numpy()\n",
        "\n",
        "    figure(figsize=(5, 5))\n",
        "    plt.scatter(targets, preds, c='r', alpha=0.5)\n",
        "    plt.plot([-0.2, lim], [-0.2, lim], c='b')\n",
        "    plt.xlim(-0.2, lim)\n",
        "    plt.ylim(-0.2, lim)\n",
        "    plt.xlabel('ground truth value')\n",
        "    plt.ylabel('predicted value')\n",
        "    plt.title('Ground Truth v.s. Prediction')\n",
        "    plt.show()"
      ]
    },
    {
      "cell_type": "markdown",
      "metadata": {
        "id": "39U_XFX6KOoj"
      },
      "source": [
        "# **Preprocess**\n",
        "\n",
        "We have three kinds of datasets:\n",
        "* `train`: for training\n",
        "* `dev`: for validation\n",
        "* `test`: for testing (w/o target value)"
      ]
    },
    {
      "cell_type": "markdown",
      "metadata": {
        "id": "t7MJaESdgXKm"
      },
      "source": [
        "## **Feature Selection**\n",
        "\n",
        "Select feature based on __1. the correlation to the target value__ and __2. human judgement__ (based on meaning of the column)."
      ]
    },
    {
      "cell_type": "code",
      "execution_count": null,
      "metadata": {
        "colab": {
          "base_uri": "https://localhost:8080/"
        },
        "id": "qyWJCYnGfFe5",
        "outputId": "5fd49014-3ed0-4d92-c668-8f5fa997e457"
      },
      "outputs": [
        {
          "name": "stdout",
          "output_type": "stream",
          "text": [
            "Index(['cli', 'ili', 'hh_cmnty_cli', 'nohh_cmnty_cli', 'worried_finances',\n",
            "       'tested_positive', 'cli.1', 'ili.1', 'hh_cmnty_cli.1',\n",
            "       'nohh_cmnty_cli.1', 'worried_finances.1', 'tested_positive.1', 'cli.2',\n",
            "       'ili.2', 'hh_cmnty_cli.2', 'nohh_cmnty_cli.2', 'worried_finances.2',\n",
            "       'tested_positive.2'],\n",
            "      dtype='object')\n"
          ]
        }
      ],
      "source": [
        "df = pd.read_csv('covid.train.csv').iloc[:,1:]\n",
        "print(df.columns[df.corr().iloc[:,-1] > 0.3])\n",
        "\n",
        "features_index = [40, 41, 42, 43, 47, 51, 56, 57, 58, 59, 60, 61, 65, 69, 74, 75, 76, 77, 78, 79, 83, 87, 92]"
      ]
    },
    {
      "cell_type": "markdown",
      "metadata": {
        "id": "NpJhz0I3hss_"
      },
      "source": [
        "## **Dataset**"
      ]
    },
    {
      "cell_type": "code",
      "execution_count": null,
      "metadata": {
        "id": "0zlpIp9ANJRU"
      },
      "outputs": [],
      "source": [
        "class COVID19Dataset(Dataset):\n",
        "    ''' Dataset for loading and preprocessing the COVID19 dataset '''\n",
        "    def __init__(self, path, mode='train'):\n",
        "        self.mode = mode\n",
        "\n",
        "        # Read data into numpy arrays\n",
        "        with open(path, 'r') as fp:\n",
        "            data = list(csv.reader(fp))\n",
        "            data = np.array(data[1:])[:, 1:].astype(float)\n",
        "\n",
        "        feats = [40, 41, 42, 43, 47, 51, 56, 57, 58, 59, 60, 61, 65, 69, 74, 75, 76, 77, 78, 79, 83, 87, 92]\n",
        "\n",
        "        if mode == 'test':\n",
        "            data = data[:, feats]\n",
        "            self.data = torch.FloatTensor(data)\n",
        "        else:\n",
        "            target = data[:, -1]\n",
        "            data = data[:, feats]\n",
        "            \n",
        "            # Splitting training data into train & dev sets\n",
        "            if mode == 'train':\n",
        "                indices = [i for i in range(len(data)) if i % 5 != 0]\n",
        "            elif mode == 'dev':\n",
        "                indices = [i for i in range(len(data)) if i % 5 == 0]\n",
        "            \n",
        "            # Convert data into PyTorch tensors\n",
        "            self.data = torch.FloatTensor(data[indices])\n",
        "            self.target = torch.FloatTensor(target[indices])\n",
        "\n",
        "        # Normalization\n",
        "        ## training scaler\n",
        "        if mode == 'train':\n",
        "            scaler = {\n",
        "                'mean': self.data.mean(dim=0, keepdim=True),\n",
        "                'std': self.data.std(dim=0, keepdim=True),\n",
        "            }\n",
        "            pickle.dump(scaler, open('scaler.pickle', 'wb'))\n",
        "\n",
        "        ## normalize features\n",
        "        scaler = pickle.load(open('scaler.pickle', 'rb'))\n",
        "        self.data = (self.data - scaler['mean']) / scaler['std']\n",
        "        self.dim = self.data.shape[1]\n",
        "\n",
        "    def __getitem__(self, index):\n",
        "        if self.mode in ['train', 'dev']:\n",
        "            return self.data[index], self.target[index]\n",
        "        else:\n",
        "            return self.data[index]\n",
        "\n",
        "    def __len__(self):\n",
        "        return len(self.data)"
      ]
    },
    {
      "cell_type": "markdown",
      "metadata": {
        "id": "AlhTlkE7MDo3"
      },
      "source": [
        "## **DataLoader**\n",
        "\n",
        "A `DataLoader` loads data from a given `Dataset` into batches.\n"
      ]
    },
    {
      "cell_type": "code",
      "execution_count": null,
      "metadata": {
        "id": "hlhLk5t6MBX3"
      },
      "outputs": [],
      "source": [
        "def prep_dataloader(path, mode, batch_size, n_jobs=0, target_only=False):\n",
        "    ''' Generates a dataset, then is put into a dataloader. '''\n",
        "    # dataet\n",
        "    dataset = COVID19Dataset(path, mode=mode)\n",
        "\n",
        "    # dataloader\n",
        "    dataloader = DataLoader(\n",
        "        dataset, batch_size,\n",
        "        shuffle=(mode == 'train'), drop_last=False,\n",
        "        num_workers=n_jobs, pin_memory=True)\n",
        "    return dataloader"
      ]
    },
    {
      "cell_type": "markdown",
      "metadata": {
        "id": "SGuycwR0MeQB"
      },
      "source": [
        "# **Deep Neural Network**\n"
      ]
    },
    {
      "cell_type": "code",
      "execution_count": null,
      "metadata": {
        "id": "49-uXYovOAI0"
      },
      "outputs": [],
      "source": [
        "class NeuralNet(nn.Module):\n",
        "    ''' A simple fully-connected deep neural network '''\n",
        "    def __init__(self, input_dim, l2 = 0):\n",
        "        super(NeuralNet, self).__init__()\n",
        "\n",
        "        self.net = nn.Sequential(\n",
        "            nn.Linear(input_dim, 16),\n",
        "            nn.ReLU(),\n",
        "            nn.Linear(16, 1),\n",
        "        )\n",
        "\n",
        "        # Mean squared error loss\n",
        "        self.criterion = nn.MSELoss(reduction='mean')\n",
        "        self.l2 = l2\n",
        "\n",
        "    def forward(self, x):\n",
        "        ''' Given input of size (batch_size x input_dim), compute output of the network '''\n",
        "        return self.net(x).squeeze(1)\n",
        "\n",
        "    def cal_loss(self, pred, target):\n",
        "\n",
        "        # l2 regularization\n",
        "        l2_loss = 0\n",
        "        for param in model.parameters():\n",
        "            l2_loss += torch.sum(torch.square(param))\n",
        "\n",
        "        return self.criterion(pred, target)+ self.l2*l2_loss"
      ]
    },
    {
      "cell_type": "markdown",
      "metadata": {
        "id": "DvFWVjZ5Nvga"
      },
      "source": [
        "## **Train/Dev/Test**"
      ]
    },
    {
      "cell_type": "code",
      "execution_count": null,
      "metadata": {
        "id": "lOqcmYzMO7jB"
      },
      "outputs": [],
      "source": [
        "# Train\n",
        "def train(tr_set, dv_set, model, config, device):\n",
        "    n_epochs = config['n_epochs']  # Maximum number of epochs\n",
        "\n",
        "    # Optimizer\n",
        "    optimizer = getattr(torch.optim, config['optimizer'])(model.parameters(), **config['optim_hparas'])\n",
        "    \n",
        "    # Learning rate scheduler\n",
        "    lambda1 = lambda epoch: config['lambda'] ** epoch\n",
        "    scheduler = torch.optim.lr_scheduler.LambdaLR(optimizer, lr_lambda=lambda1)\n",
        "\n",
        "    min_mse = 1000.\n",
        "    loss_record = {'train': [], 'dev': []}      # for recording training loss\n",
        "    early_stop_cnt = 0\n",
        "    epoch = 0\n",
        "    while epoch < n_epochs:\n",
        "        model.train()\n",
        "        for x, y in tr_set:\n",
        "            optimizer.zero_grad()\n",
        "            x, y = x.to(device), y.to(device)\n",
        "            pred = model(x)\n",
        "            mse_loss = model.cal_loss(pred, y)\n",
        "            mse_loss.backward()\n",
        "            optimizer.step()\n",
        "            loss_record['train'].append(mse_loss.detach().cpu().item())\n",
        "        \n",
        "        # schedule learning rate\n",
        "        scheduler.step()\n",
        "\n",
        "        # Validation\n",
        "        dev_mse = dev(dv_set, model, device)\n",
        "        if dev_mse < min_mse:\n",
        "            min_mse = dev_mse\n",
        "            print('Saving model (epoch = {:4d}, loss = {:.4f})'.format(epoch + 1, min_mse))\n",
        "            \n",
        "            # save model\n",
        "            torch.save(model.state_dict(), config['save_path'])\n",
        "            early_stop_cnt = 0\n",
        "        else:\n",
        "            early_stop_cnt += 1\n",
        "\n",
        "        epoch += 1\n",
        "        loss_record['dev'].append(dev_mse)\n",
        "\n",
        "        # Early Stopping\n",
        "        if early_stop_cnt > config['early_stop']:\n",
        "            break\n",
        "\n",
        "    print('Finished training after {} epochs'.format(epoch))\n",
        "    return min_mse, loss_record\n",
        "\n",
        "# Validation\n",
        "def dev(dv_set, model, device):\n",
        "    model.eval()\n",
        "    total_loss = 0\n",
        "    for x, y in dv_set:\n",
        "        x, y = x.to(device), y.to(device)\n",
        "        with torch.no_grad():\n",
        "            pred = model(x)\n",
        "            mse_loss = model.cal_loss(pred, y)\n",
        "        total_loss += mse_loss.detach().cpu().item() * len(x)\n",
        "    total_loss = total_loss / len(dv_set.dataset)\n",
        "    return total_loss\n",
        "\n",
        "# Test\n",
        "def test(tt_set, model, device):\n",
        "    model.eval()\n",
        "    preds = []\n",
        "    for x in tt_set:\n",
        "        x = x.to(device)\n",
        "        with torch.no_grad():\n",
        "            pred = model(x)\n",
        "            preds.append(pred.detach().cpu())\n",
        "    preds = torch.cat(preds, dim=0).numpy()\n",
        "    return preds"
      ]
    },
    {
      "cell_type": "markdown",
      "metadata": {
        "id": "SvckkF5dvf0j"
      },
      "source": [
        "## **Hyper-parameters**"
      ]
    },
    {
      "cell_type": "code",
      "execution_count": null,
      "metadata": {
        "id": "NPXpdumwPjE7"
      },
      "outputs": [],
      "source": [
        "device = get_device()\n",
        "os.makedirs('models', exist_ok=True)\n",
        "\n",
        "config = {\n",
        "    'n_epochs': 3000,\n",
        "    'batch_size': 64,\n",
        "    'optimizer': 'Adam',\n",
        "    'optim_hparas': {\n",
        "        'lr': 0.01,\n",
        "        'weight_decay': 0.005, \n",
        "    },\n",
        "    'lambda': 0.996,\n",
        "    'early_stop': 200,\n",
        "    'save_path': 'models/model.pth'\n",
        "}"
      ]
    },
    {
      "cell_type": "markdown",
      "metadata": {
        "id": "6j1eOV3TOH-j"
      },
      "source": [
        "## **Load data and model**"
      ]
    },
    {
      "cell_type": "code",
      "execution_count": null,
      "metadata": {
        "id": "eNrYBMmePLKm"
      },
      "outputs": [],
      "source": [
        "tr_set = prep_dataloader(tr_path, 'train', config['batch_size'])\n",
        "dv_set = prep_dataloader(tr_path, 'dev', config['batch_size'])\n",
        "tt_set = prep_dataloader(tt_path, 'test', config['batch_size'])"
      ]
    },
    {
      "cell_type": "markdown",
      "metadata": {
        "id": "sX2B_zgSOPTJ"
      },
      "source": [
        "## **Training Process**"
      ]
    },
    {
      "cell_type": "code",
      "execution_count": null,
      "metadata": {
        "colab": {
          "base_uri": "https://localhost:8080/"
        },
        "id": "GrEbUxazQAAZ",
        "outputId": "6c86b3cc-34bf-4c2f-9170-68c500052c26"
      },
      "outputs": [
        {
          "name": "stdout",
          "output_type": "stream",
          "text": [
            "Saving model (epoch =    1, loss = 114.4816)\n",
            "Saving model (epoch =    2, loss = 54.6249)\n",
            "Saving model (epoch =    3, loss = 21.0256)\n",
            "Saving model (epoch =    4, loss = 11.5822)\n",
            "Saving model (epoch =    5, loss = 7.1032)\n",
            "Saving model (epoch =    6, loss = 4.7389)\n",
            "Saving model (epoch =    7, loss = 3.1620)\n",
            "Saving model (epoch =    8, loss = 2.3317)\n",
            "Saving model (epoch =    9, loss = 1.7773)\n",
            "Saving model (epoch =   10, loss = 1.4640)\n",
            "Saving model (epoch =   12, loss = 1.2396)\n",
            "Saving model (epoch =   13, loss = 1.1509)\n",
            "Saving model (epoch =   14, loss = 1.0927)\n",
            "Saving model (epoch =   17, loss = 1.0489)\n",
            "Saving model (epoch =   18, loss = 1.0124)\n",
            "Saving model (epoch =   22, loss = 0.9346)\n",
            "Saving model (epoch =   29, loss = 0.9205)\n",
            "Saving model (epoch =   30, loss = 0.8458)\n",
            "Saving model (epoch =   42, loss = 0.8296)\n",
            "Saving model (epoch =   57, loss = 0.8284)\n",
            "Saving model (epoch =   72, loss = 0.8277)\n",
            "Saving model (epoch =   82, loss = 0.8090)\n",
            "Saving model (epoch =   88, loss = 0.8057)\n",
            "Saving model (epoch =  147, loss = 0.7957)\n",
            "Saving model (epoch =  223, loss = 0.7937)\n",
            "Saving model (epoch =  247, loss = 0.7918)\n",
            "Saving model (epoch =  309, loss = 0.7905)\n",
            "Saving model (epoch =  330, loss = 0.7877)\n",
            "Saving model (epoch =  338, loss = 0.7824)\n",
            "Saving model (epoch =  460, loss = 0.7820)\n",
            "Finished training after 661 epochs\n"
          ]
        }
      ],
      "source": [
        "model = NeuralNet(tr_set.dataset.dim, l2=0.00005).to(device)  # Construct model and move to device,\n",
        "model_loss, model_loss_record = train(tr_set, dv_set, model, config, device)"
      ]
    },
    {
      "cell_type": "code",
      "execution_count": null,
      "metadata": {
        "colab": {
          "base_uri": "https://localhost:8080/",
          "height": 295
        },
        "id": "hsNO9nnXQBvP",
        "outputId": "4fb34953-ef52-4c05-9ddc-f8b7bd8f37a3"
      },
      "outputs": [
        {
          "data": {
            "image/png": "[encoded data removed]",
            "text/plain": [
              "<Figure size 432x288 with 1 Axes>"
            ]
          },
          "metadata": {
            "needs_background": "light",
            "tags": []
          },
          "output_type": "display_data"
        }
      ],
      "source": [
        "plot_learning_curve(model_loss_record, title='deep model')"
      ]
    },
    {
      "cell_type": "code",
      "execution_count": null,
      "metadata": {
        "colab": {
          "base_uri": "https://localhost:8080/",
          "height": 350
        },
        "id": "3iZTVn5WQFpX",
        "outputId": "2b96818d-746e-4cb5-837b-10c3ad482e84"
      },
      "outputs": [
        {
          "data": {
            "image/png": "[encoded data removed]",
            "text/plain": [
              "<Figure size 360x360 with 1 Axes>"
            ]
          },
          "metadata": {
            "needs_background": "light",
            "tags": []
          },
          "output_type": "display_data"
        }
      ],
      "source": [
        "del model\n",
        "model = NeuralNet(tr_set.dataset.dim).to(device)\n",
        "ckpt = torch.load(config['save_path'], map_location='cpu')  # Load your best model\n",
        "model.load_state_dict(ckpt)\n",
        "plot_pred(dv_set, model, device)  # Show prediction on the validation set"
      ]
    },
    {
      "cell_type": "markdown",
      "metadata": {
        "id": "PYuJbX2NlgBW"
      },
      "source": [
        "# **Testing**"
      ]
    },
    {
      "cell_type": "markdown",
      "metadata": {
        "id": "WBrPMXmnjuB6"
      },
      "source": [
        "## __Stacking__\n",
        "\n",
        "Other regression models, e.g. SVM, XGboost, are combined with DNN to predict the testing set."
      ]
    },
    {
      "cell_type": "code",
      "execution_count": null,
      "metadata": {
        "colab": {
          "base_uri": "https://localhost:8080/"
        },
        "id": "n89PFbwxlOBW",
        "outputId": "0485c248-a11f-45aa-e7cf-09c9c748dae9"
      },
      "outputs": [
        {
          "data": {
            "text/plain": [
              "SVR(C=1.3, cache_size=200, coef0=0.0, degree=3, epsilon=0.1, gamma='scale',\n",
              "    kernel='linear', max_iter=-1, shrinking=True, tol=0.001, verbose=False)"
            ]
          },
          "execution_count": 18,
          "metadata": {
            "tags": []
          },
          "output_type": "execute_result"
        }
      ],
      "source": [
        "import xgboost as xg\n",
        "from sklearn.svm import SVR\n",
        "\n",
        "# training & testing set\n",
        "df_train = pd.read_csv('covid.train.csv').iloc[:,1:]\n",
        "df_test = pd.read_csv('covid.test.csv').iloc[:,1:]\n",
        "  \n",
        "# Instantiation \n",
        "xgb_r = xg.XGBRegressor(objective ='reg:squarederror',gamma=0.5,reg_alpha=1.5,n_estimators = 130, max_depth=4)\n",
        "svm = SVR(kernel=\"linear\", C=1.3)\n",
        "\n",
        "# Fitting the model \n",
        "xgb_r.fit(df_train.iloc[:,:-1], df_train.iloc[:,-1]) \n",
        "svm.fit(df_train.iloc[:,:-1], df_train.iloc[:,-1])"
      ]
    },
    {
      "cell_type": "markdown",
      "metadata": {
        "id": "aQikz3IPiyPf"
      },
      "source": [
        "## __Prediction__\n",
        "\n",
        "For the stacking method, ratios of 0.5, 0.2, 0.3 were chosen for weighting the prediction of DNN, XGBoost and SVM resepectively."
      ]
    },
    {
      "cell_type": "code",
      "execution_count": null,
      "metadata": {
        "colab": {
          "base_uri": "https://localhost:8080/"
        },
        "id": "O8cTuQjQQOon",
        "outputId": "782541bf-ab3b-4dae-a898-afab1577f7da"
      },
      "outputs": [
        {
          "name": "stdout",
          "output_type": "stream",
          "text": [
            "Saving results to pred_5_4.csv\n"
          ]
        }
      ],
      "source": [
        "def save_pred(preds, file):\n",
        "    ''' Save predictions to specified file '''\n",
        "    print('Saving results to {}'.format(file))\n",
        "    with open(file, 'w') as fp:\n",
        "        writer = csv.writer(fp)\n",
        "        writer.writerow(['id', 'tested_positive'])\n",
        "        for i, p in enumerate(preds):\n",
        "            writer.writerow([i, p])\n",
        "\n",
        "# base regressors\n",
        "preds_DNN = test(tt_set, model, device)\n",
        "pred_xgb = xgb_r.predict(df_test) \n",
        "pred_svm = svm.predict(df_test) \n",
        "\n",
        "# ensemble prediction from DNN, XGBoost, SVM\n",
        "preds_ensemble = (0.5*preds_DNN + 0.2*pred_xgb + 0.3*pred_svm)\n",
        "\n",
        "# save prediction file to pred.csv\n",
        "save_pred(preds_ensemble, 'pred_5_4.csv')"
      ]
    }
  ],
  "metadata": {
    "accelerator": "GPU",
    "colab": {
      "collapsed_sections": [],
      "name": "「ML2021Spring - HW1.ipynb」的副本",
      "provenance": []
    },
    "kernelspec": {
      "display_name": "Python 3",
      "name": "python3"
    }
  },
  "nbformat": 4,
  "nbformat_minor": 0
}
